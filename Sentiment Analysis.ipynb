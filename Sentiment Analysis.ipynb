{
 "cells": [
  {
   "cell_type": "markdown",
   "id": "8521f0be",
   "metadata": {},
   "source": [
    "# Twitter US Airline Sentiment Analysis\n",
    "## Project Overview\n",
    "- Social media platforms like Twitter have become an integral part of modern communication, providing a platform for users to share opinions, experiences, and feedback in real-time. For businesses, especially in the airline industry, monitoring and understanding customer sentiment on social media are crucial for maintaining brand reputation and improving customer satisfaction. The Twitter US Airline Sentiment dataset offers a rich source of data for analyzing customer sentiments towards various US airlines.\n",
    "\n",
    "## Problem Statement\n",
    "- The objective of the project is to conduct sentiment analysis on the Twitter US Airline Sentiment dataset to gain insights into customer perceptions of different US airlines. By analyzing the sentiments expressed in tweets, we seek to understand the overall sentiment landscape, identify factors influencing sentiment, and provide actionable insights for airlines to improve customer satisfaction and brand reputation.\n",
    "- Additionally, this project involves the development of a machine learning model to predict the sentiment of tweets towards airlines. By building an effective sentiment analysis model, we aim to automate the process of analyzing customer sentiments, enabling airlines to efficiently monitor and respond to customer feedback on social media platforms."
   ]
  },
  {
   "cell_type": "markdown",
   "id": "6f2f4d7c",
   "metadata": {},
   "source": [
    "## Importing Necessary Libraries"
   ]
  },
  {
   "cell_type": "code",
   "execution_count": 1,
   "id": "56983083",
   "metadata": {
    "ExecuteTime": {
     "end_time": "2024-03-28T06:52:35.928210Z",
     "start_time": "2024-03-28T06:52:31.214864Z"
    }
   },
   "outputs": [],
   "source": [
    "# for dataframe manipulation and analysis\n",
    "import pandas as pd\n",
    "import numpy as np\n",
    "\n",
    "# for data visualiztion\n",
    "import matplotlib.pyplot as plt\n",
    "import seaborn as sns\n",
    "\n",
    "# for warning filtering\n",
    "import warnings\n",
    "warnings.filterwarnings('ignore')\n",
    "\n",
    "# for data preprocessing\n",
    "import re\n",
    "from sklearn.preprocessing import LabelEncoder\n",
    "from nltk.corpus import stopwords\n",
    "stop = stopwords.words('english')\n",
    "from sklearn.model_selection import train_test_split\n",
    "\n",
    "# for feature extraction\n",
    "from sklearn.feature_extraction.text import TfidfVectorizer"
   ]
  },
  {
   "cell_type": "markdown",
   "id": "95db07e1",
   "metadata": {},
   "source": [
    "## Loading Dataset"
   ]
  },
  {
   "cell_type": "code",
   "execution_count": 2,
   "id": "6f9fc345",
   "metadata": {
    "ExecuteTime": {
     "end_time": "2024-03-28T06:52:36.118060Z",
     "start_time": "2024-03-28T06:52:35.932168Z"
    },
    "scrolled": false
   },
   "outputs": [
    {
     "data": {
      "text/html": [
       "<div>\n",
       "<style scoped>\n",
       "    .dataframe tbody tr th:only-of-type {\n",
       "        vertical-align: middle;\n",
       "    }\n",
       "\n",
       "    .dataframe tbody tr th {\n",
       "        vertical-align: top;\n",
       "    }\n",
       "\n",
       "    .dataframe thead th {\n",
       "        text-align: right;\n",
       "    }\n",
       "</style>\n",
       "<table border=\"1\" class=\"dataframe\">\n",
       "  <thead>\n",
       "    <tr style=\"text-align: right;\">\n",
       "      <th></th>\n",
       "      <th>tweet_id</th>\n",
       "      <th>airline_sentiment</th>\n",
       "      <th>airline_sentiment_confidence</th>\n",
       "      <th>negativereason</th>\n",
       "      <th>negativereason_confidence</th>\n",
       "      <th>airline</th>\n",
       "      <th>airline_sentiment_gold</th>\n",
       "      <th>name</th>\n",
       "      <th>negativereason_gold</th>\n",
       "      <th>retweet_count</th>\n",
       "      <th>text</th>\n",
       "      <th>tweet_coord</th>\n",
       "      <th>tweet_created</th>\n",
       "      <th>tweet_location</th>\n",
       "      <th>user_timezone</th>\n",
       "    </tr>\n",
       "  </thead>\n",
       "  <tbody>\n",
       "    <tr>\n",
       "      <th>0</th>\n",
       "      <td>5.703060e+17</td>\n",
       "      <td>neutral</td>\n",
       "      <td>1.0000</td>\n",
       "      <td>NaN</td>\n",
       "      <td>NaN</td>\n",
       "      <td>Virgin America</td>\n",
       "      <td>NaN</td>\n",
       "      <td>cairdin</td>\n",
       "      <td>NaN</td>\n",
       "      <td>0</td>\n",
       "      <td>@VirginAmerica What @dhepburn said.</td>\n",
       "      <td>NaN</td>\n",
       "      <td>24/02/2015 11:35</td>\n",
       "      <td>NaN</td>\n",
       "      <td>Eastern Time (US &amp; Canada)</td>\n",
       "    </tr>\n",
       "    <tr>\n",
       "      <th>1</th>\n",
       "      <td>5.703010e+17</td>\n",
       "      <td>positive</td>\n",
       "      <td>0.3486</td>\n",
       "      <td>NaN</td>\n",
       "      <td>0.0000</td>\n",
       "      <td>Virgin America</td>\n",
       "      <td>NaN</td>\n",
       "      <td>jnardino</td>\n",
       "      <td>NaN</td>\n",
       "      <td>0</td>\n",
       "      <td>@VirginAmerica plus you've added commercials t...</td>\n",
       "      <td>NaN</td>\n",
       "      <td>24/02/2015 11:15</td>\n",
       "      <td>NaN</td>\n",
       "      <td>Pacific Time (US &amp; Canada)</td>\n",
       "    </tr>\n",
       "    <tr>\n",
       "      <th>2</th>\n",
       "      <td>5.703010e+17</td>\n",
       "      <td>neutral</td>\n",
       "      <td>0.6837</td>\n",
       "      <td>NaN</td>\n",
       "      <td>NaN</td>\n",
       "      <td>Virgin America</td>\n",
       "      <td>NaN</td>\n",
       "      <td>yvonnalynn</td>\n",
       "      <td>NaN</td>\n",
       "      <td>0</td>\n",
       "      <td>@VirginAmerica I didn't today... Must mean I n...</td>\n",
       "      <td>NaN</td>\n",
       "      <td>24/02/2015 11:15</td>\n",
       "      <td>Lets Play</td>\n",
       "      <td>Central Time (US &amp; Canada)</td>\n",
       "    </tr>\n",
       "    <tr>\n",
       "      <th>3</th>\n",
       "      <td>5.703010e+17</td>\n",
       "      <td>negative</td>\n",
       "      <td>1.0000</td>\n",
       "      <td>Bad Flight</td>\n",
       "      <td>0.7033</td>\n",
       "      <td>Virgin America</td>\n",
       "      <td>NaN</td>\n",
       "      <td>jnardino</td>\n",
       "      <td>NaN</td>\n",
       "      <td>0</td>\n",
       "      <td>@VirginAmerica it's really aggressive to blast...</td>\n",
       "      <td>NaN</td>\n",
       "      <td>24/02/2015 11:15</td>\n",
       "      <td>NaN</td>\n",
       "      <td>Pacific Time (US &amp; Canada)</td>\n",
       "    </tr>\n",
       "    <tr>\n",
       "      <th>4</th>\n",
       "      <td>5.703010e+17</td>\n",
       "      <td>negative</td>\n",
       "      <td>1.0000</td>\n",
       "      <td>Can't Tell</td>\n",
       "      <td>1.0000</td>\n",
       "      <td>Virgin America</td>\n",
       "      <td>NaN</td>\n",
       "      <td>jnardino</td>\n",
       "      <td>NaN</td>\n",
       "      <td>0</td>\n",
       "      <td>@VirginAmerica and it's a really big bad thing...</td>\n",
       "      <td>NaN</td>\n",
       "      <td>24/02/2015 11:14</td>\n",
       "      <td>NaN</td>\n",
       "      <td>Pacific Time (US &amp; Canada)</td>\n",
       "    </tr>\n",
       "  </tbody>\n",
       "</table>\n",
       "</div>"
      ],
      "text/plain": [
       "       tweet_id airline_sentiment  airline_sentiment_confidence  \\\n",
       "0  5.703060e+17           neutral                        1.0000   \n",
       "1  5.703010e+17          positive                        0.3486   \n",
       "2  5.703010e+17           neutral                        0.6837   \n",
       "3  5.703010e+17          negative                        1.0000   \n",
       "4  5.703010e+17          negative                        1.0000   \n",
       "\n",
       "  negativereason  negativereason_confidence         airline  \\\n",
       "0            NaN                        NaN  Virgin America   \n",
       "1            NaN                     0.0000  Virgin America   \n",
       "2            NaN                        NaN  Virgin America   \n",
       "3     Bad Flight                     0.7033  Virgin America   \n",
       "4     Can't Tell                     1.0000  Virgin America   \n",
       "\n",
       "  airline_sentiment_gold        name negativereason_gold  retweet_count  \\\n",
       "0                    NaN     cairdin                 NaN              0   \n",
       "1                    NaN    jnardino                 NaN              0   \n",
       "2                    NaN  yvonnalynn                 NaN              0   \n",
       "3                    NaN    jnardino                 NaN              0   \n",
       "4                    NaN    jnardino                 NaN              0   \n",
       "\n",
       "                                                text tweet_coord  \\\n",
       "0                @VirginAmerica What @dhepburn said.         NaN   \n",
       "1  @VirginAmerica plus you've added commercials t...         NaN   \n",
       "2  @VirginAmerica I didn't today... Must mean I n...         NaN   \n",
       "3  @VirginAmerica it's really aggressive to blast...         NaN   \n",
       "4  @VirginAmerica and it's a really big bad thing...         NaN   \n",
       "\n",
       "      tweet_created tweet_location               user_timezone  \n",
       "0  24/02/2015 11:35            NaN  Eastern Time (US & Canada)  \n",
       "1  24/02/2015 11:15            NaN  Pacific Time (US & Canada)  \n",
       "2  24/02/2015 11:15      Lets Play  Central Time (US & Canada)  \n",
       "3  24/02/2015 11:15            NaN  Pacific Time (US & Canada)  \n",
       "4  24/02/2015 11:14            NaN  Pacific Time (US & Canada)  "
      ]
     },
     "execution_count": 2,
     "metadata": {},
     "output_type": "execute_result"
    }
   ],
   "source": [
    "df = pd.read_csv('Tweets.csv')\n",
    "df.head()"
   ]
  },
  {
   "cell_type": "markdown",
   "id": "51b07a49",
   "metadata": {},
   "source": [
    "### About the dataset\n",
    "- The dataset used in this project is the Twitter US Airline Sentiment dataset, obtained from kaggle. It consists of tweets posted by users about various US airlines, along with sentiment labels (positive, negative, neutral), airline information, and timestamps."
   ]
  },
  {
   "cell_type": "markdown",
   "id": "c7b54d39",
   "metadata": {},
   "source": [
    "## Exploratory Data Analysis"
   ]
  },
  {
   "cell_type": "code",
   "execution_count": 3,
   "id": "ab1dd9c8",
   "metadata": {
    "ExecuteTime": {
     "end_time": "2024-03-28T06:52:36.189095Z",
     "start_time": "2024-03-28T06:52:36.123058Z"
    }
   },
   "outputs": [],
   "source": [
    "df.drop_duplicates(inplace = True)"
   ]
  },
  {
   "cell_type": "code",
   "execution_count": 4,
   "id": "4368dfa6",
   "metadata": {
    "ExecuteTime": {
     "end_time": "2024-03-28T06:52:36.309954Z",
     "start_time": "2024-03-28T06:52:36.197019Z"
    },
    "scrolled": false
   },
   "outputs": [
    {
     "name": "stdout",
     "output_type": "stream",
     "text": [
      "<class 'pandas.core.frame.DataFrame'>\n",
      "Int64Index: 14604 entries, 0 to 14639\n",
      "Data columns (total 15 columns):\n",
      " #   Column                        Non-Null Count  Dtype  \n",
      "---  ------                        --------------  -----  \n",
      " 0   tweet_id                      14604 non-null  float64\n",
      " 1   airline_sentiment             14604 non-null  object \n",
      " 2   airline_sentiment_confidence  14604 non-null  float64\n",
      " 3   negativereason                9159 non-null   object \n",
      " 4   negativereason_confidence     10503 non-null  float64\n",
      " 5   airline                       14604 non-null  object \n",
      " 6   airline_sentiment_gold        40 non-null     object \n",
      " 7   name                          14604 non-null  object \n",
      " 8   negativereason_gold           32 non-null     object \n",
      " 9   retweet_count                 14604 non-null  int64  \n",
      " 10  text                          14604 non-null  object \n",
      " 11  tweet_coord                   1015 non-null   object \n",
      " 12  tweet_created                 14604 non-null  object \n",
      " 13  tweet_location                9881 non-null   object \n",
      " 14  user_timezone                 9790 non-null   object \n",
      "dtypes: float64(3), int64(1), object(11)\n",
      "memory usage: 1.8+ MB\n"
     ]
    }
   ],
   "source": [
    "df.info()"
   ]
  },
  {
   "cell_type": "markdown",
   "id": "d3306fd3",
   "metadata": {},
   "source": [
    "#### observation\n",
    "- There are 14604 records and 15 features in the dataset.\n",
    "- There are some missing values in some of the features."
   ]
  },
  {
   "cell_type": "markdown",
   "id": "3ad812f8",
   "metadata": {},
   "source": [
    "### Sentiment distribution"
   ]
  },
  {
   "cell_type": "code",
   "execution_count": 5,
   "id": "8179b0b6",
   "metadata": {
    "ExecuteTime": {
     "end_time": "2024-03-28T06:52:36.726718Z",
     "start_time": "2024-03-28T06:52:36.313948Z"
    },
    "scrolled": false
   },
   "outputs": [
    {
     "data": {
      "image/png": "[encoded data removed]",
      "text/plain": [
       "<Figure size 600x400 with 1 Axes>"
      ]
     },
     "metadata": {},
     "output_type": "display_data"
    }
   ],
   "source": [
    "plt.figure(figsize = (6,4))\n",
    "y = sns.countplot(df['airline_sentiment'],order = ['positive','neutral','negative'],color = 'skyblue')\n",
    "y.bar_label(y.containers[0])\n",
    "sns.despine()\n",
    "plt.xlabel('Sentiment',fontsize = 12)\n",
    "plt.ylabel('Count',fontsize = 12)\n",
    "plt.title('Sentiment Distribution',fontsize = 12)\n",
    "plt.show()"
   ]
  },
  {
   "cell_type": "markdown",
   "id": "452c0a5d",
   "metadata": {},
   "source": [
    "#### observation\n",
    "- There are three sentiment positive, negative & neutral.\n",
    "- The sentiment distribution plot shows that the majority of tweets are negative, followed by neutral and positive sentiments. \n",
    "- This indicates that there might be more negative sentiments expressed towards US airlines on Twitter compared to positive ones."
   ]
  },
  {
   "cell_type": "markdown",
   "id": "149dddab",
   "metadata": {},
   "source": [
    "### Sentiment Distribution by Airline"
   ]
  },
  {
   "cell_type": "code",
   "execution_count": 6,
   "id": "95d27509",
   "metadata": {
    "ExecuteTime": {
     "end_time": "2024-03-28T06:52:37.291408Z",
     "start_time": "2024-03-28T06:52:36.735727Z"
    },
    "scrolled": false
   },
   "outputs": [
    {
     "data": {
      "image/png": "[encoded data removed]",
      "text/plain": [
       "<Figure size 1200x600 with 1 Axes>"
      ]
     },
     "metadata": {},
     "output_type": "display_data"
    }
   ],
   "source": [
    "plt.figure(figsize = (12,6))\n",
    "ax = sns.countplot(data = df,x = 'airline',hue = 'airline_sentiment',color = 'skyblue')\n",
    "for p in ax.patches:\n",
    "    ax.annotate(p.get_height(),(p.get_x() + p.get_width() / 2,p.get_height()),ha = 'center',xytext = (0,4),\n",
    "                textcoords = 'offset points',size = 9)\n",
    "plt.title('Sentiment Distribution by Airline')\n",
    "plt.xlabel('airline')\n",
    "plt.ylabel('Count')\n",
    "plt.legend(title = 'Sentiment')\n",
    "plt.show()"
   ]
  },
  {
   "cell_type": "markdown",
   "id": "ca8cd601",
   "metadata": {},
   "source": [
    "#### Observation\n",
    "There are six different airlines like United, US Airways, American, Southwest, Delta and Virgin America.\n",
    "- United, US Airways, American\n",
    " - This airlines have more negative sentiment, with a significantly higher count of negative tweets compared to positive and neutral ones.\n",
    " - The high proportion of negative sentiment suggests that customers may be experiencing issues or dissatisfaction with the services provided by these Airlines.\n",
    "- Delta airlines\n",
    " - This airline shows a more balanced sentiment distribution, with comparable counts of positive, negative, and neutral tweets.\n",
    " - This suggests that while there may be areas for improvement, this airline also has satisfied customers that contribute to positive sentiment."
   ]
  },
  {
   "cell_type": "markdown",
   "id": "ba5d03ab",
   "metadata": {},
   "source": [
    "### Negative Reason Distribution"
   ]
  },
  {
   "cell_type": "code",
   "execution_count": 7,
   "id": "a408204c",
   "metadata": {
    "ExecuteTime": {
     "end_time": "2024-03-28T06:52:37.692179Z",
     "start_time": "2024-03-28T06:52:37.298392Z"
    }
   },
   "outputs": [
    {
     "data": {
      "image/png": "[encoded data removed]",
      "text/plain": [
       "<Figure size 800x600 with 1 Axes>"
      ]
     },
     "metadata": {},
     "output_type": "display_data"
    }
   ],
   "source": [
    "plt.figure(figsize=(8, 6))\n",
    "y = sns.countplot(data=df, y='negativereason',order = df['negativereason'].value_counts().index,color = 'skyblue')\n",
    "y.bar_label(y.containers[0])\n",
    "sns.despine()\n",
    "plt.title('Distribution of Negative Reasons')\n",
    "plt.xlabel('Count')\n",
    "plt.ylabel('Negative Reason')\n",
    "plt.show()"
   ]
  },
  {
   "cell_type": "markdown",
   "id": "23db29a0",
   "metadata": {},
   "source": [
    "#### Observation\n",
    "- Common negative reasons expressed in tweets include poor customer service,flight delays or Cancellations,issues with booking or reservations and Baggage Handling Issues.\n",
    "- By addressing these negative reasons and implementing strategies to improve service quality, communication, and customer experience, airlines can enhance overall customer satisfaction, loyalty, and brand reputation."
   ]
  },
  {
   "cell_type": "markdown",
   "id": "d157d0f5",
   "metadata": {
    "ExecuteTime": {
     "end_time": "2024-02-28T05:58:24.822350Z",
     "start_time": "2024-02-28T05:58:24.812337Z"
    }
   },
   "source": [
    "##  Sentiment Analysis Model"
   ]
  },
  {
   "cell_type": "markdown",
   "id": "8765d39c",
   "metadata": {},
   "source": [
    "- By looking into the data, airline_sentiment and text are important columns for developing a model that predict the sentiment of tweets towards airlines."
   ]
  },
  {
   "cell_type": "code",
   "execution_count": 8,
   "id": "0ac4823c",
   "metadata": {
    "ExecuteTime": {
     "end_time": "2024-03-28T06:52:37.712149Z",
     "start_time": "2024-03-28T06:52:37.699157Z"
    }
   },
   "outputs": [],
   "source": [
    "df = df[['text','airline_sentiment']]"
   ]
  },
  {
   "cell_type": "markdown",
   "id": "de8ef3e7",
   "metadata": {},
   "source": [
    "### Data preprocessing"
   ]
  },
  {
   "cell_type": "code",
   "execution_count": 9,
   "id": "30644e3a",
   "metadata": {
    "ExecuteTime": {
     "end_time": "2024-03-28T06:52:37.825121Z",
     "start_time": "2024-03-28T06:52:37.717146Z"
    }
   },
   "outputs": [],
   "source": [
    "def data_cleaning(text):\n",
    "    text = text.lower()\n",
    "    text = re.sub('http\\s+',' ',text)\n",
    "    text = re.sub('[^a-z]',' ',text)\n",
    "    words = text.split()\n",
    "    imp_words = [x for x in words if x not in stop]\n",
    "    return ' '.join(imp_words)"
   ]
  },
  {
   "cell_type": "code",
   "execution_count": 10,
   "id": "5f76b385",
   "metadata": {
    "ExecuteTime": {
     "end_time": "2024-03-28T06:52:39.083483Z",
     "start_time": "2024-03-28T06:52:37.828082Z"
    }
   },
   "outputs": [],
   "source": [
    "df['clean_text'] = df['text'].apply(lambda x:data_cleaning(x))"
   ]
  },
  {
   "cell_type": "code",
   "execution_count": 11,
   "id": "01091f1c",
   "metadata": {
    "ExecuteTime": {
     "end_time": "2024-03-28T06:52:39.113348Z",
     "start_time": "2024-03-28T06:52:39.087363Z"
    }
   },
   "outputs": [],
   "source": [
    "le = LabelEncoder()\n",
    "df['airline_sentiment'] = le.fit_transform(df['airline_sentiment'])"
   ]
  },
  {
   "cell_type": "markdown",
   "id": "321b4b19",
   "metadata": {},
   "source": [
    "## Creating Training,validation and Test set"
   ]
  },
  {
   "cell_type": "code",
   "execution_count": 12,
   "id": "1d17188c",
   "metadata": {
    "ExecuteTime": {
     "end_time": "2024-03-28T06:52:39.257269Z",
     "start_time": "2024-03-28T06:52:39.127341Z"
    }
   },
   "outputs": [],
   "source": [
    "X = df['clean_text']\n",
    "y = df['airline_sentiment']"
   ]
  },
  {
   "cell_type": "code",
   "execution_count": 13,
   "id": "fa86b2a3",
   "metadata": {
    "ExecuteTime": {
     "end_time": "2024-03-28T06:52:39.400264Z",
     "start_time": "2024-03-28T06:52:39.263265Z"
    }
   },
   "outputs": [],
   "source": [
    "X_train_full,X_test,y_train_full,y_test = train_test_split(X,y,test_size = 0.1,random_state = 5,shuffle = True)"
   ]
  },
  {
   "cell_type": "code",
   "execution_count": 14,
   "id": "d1052180",
   "metadata": {
    "ExecuteTime": {
     "end_time": "2024-03-28T06:52:39.527125Z",
     "start_time": "2024-03-28T06:52:39.403186Z"
    }
   },
   "outputs": [],
   "source": [
    "X_train,X_valid,y_train,y_valid = train_test_split(X_train_full,y_train_full,test_size = 0.1)"
   ]
  },
  {
   "cell_type": "markdown",
   "id": "91b2a1b4",
   "metadata": {},
   "source": [
    "## Feature Extraction"
   ]
  },
  {
   "cell_type": "code",
   "execution_count": 15,
   "id": "7391ebdd",
   "metadata": {
    "ExecuteTime": {
     "end_time": "2024-03-28T06:52:40.005964Z",
     "start_time": "2024-03-28T06:52:39.530111Z"
    }
   },
   "outputs": [],
   "source": [
    "tf_idf = TfidfVectorizer()\n",
    "X_train_all = tf_idf.fit_transform(X_train)\n",
    "X_valid_all = tf_idf.transform(X_valid)\n",
    "X_test_all = tf_idf.transform(X_test)"
   ]
  },
  {
   "cell_type": "markdown",
   "id": "d49ff1fe",
   "metadata": {},
   "source": [
    "## Model Selection"
   ]
  },
  {
   "cell_type": "markdown",
   "id": "68680595",
   "metadata": {},
   "source": [
    "### Training on Different Models"
   ]
  },
  {
   "cell_type": "code",
   "execution_count": 16,
   "id": "6f56406b",
   "metadata": {
    "ExecuteTime": {
     "end_time": "2024-03-28T06:52:40.190820Z",
     "start_time": "2024-03-28T06:52:40.008836Z"
    }
   },
   "outputs": [],
   "source": [
    "# ml models\n",
    "from sklearn.linear_model import LogisticRegression\n",
    "from sklearn.naive_bayes import MultinomialNB\n",
    "from sklearn.svm import SVC\n",
    "from sklearn.ensemble import RandomForestClassifier,GradientBoostingClassifier\n",
    "from xgboost import XGBClassifier\n",
    "\n",
    "# for model evaluation\n",
    "from sklearn.metrics import accuracy_score,confusion_matrix,f1_score,precision_score\n",
    "\n",
    "# cross validation\n",
    "from sklearn.model_selection import cross_val_score,StratifiedKFold"
   ]
  },
  {
   "cell_type": "code",
   "execution_count": 17,
   "id": "b92fcaad",
   "metadata": {
    "ExecuteTime": {
     "end_time": "2024-03-28T06:52:40.208727Z",
     "start_time": "2024-03-28T06:52:40.194734Z"
    }
   },
   "outputs": [],
   "source": [
    "def model_builder(estimators):\n",
    "    for estimator in estimators:\n",
    "        estimator.fit(X_train_all,y_train)\n",
    "        \n",
    "        # model evaluation\n",
    "        training_accuracy = estimator.score(X_train_all,y_train)\n",
    "        y_pred = estimator.predict(X_valid_all)\n",
    "        validation_accuracy = accuracy_score(y_valid,y_pred)\n",
    "        conf_matrix = confusion_matrix(y_valid,y_pred)\n",
    "        f1score = f1_score(y_valid,y_pred,average = 'weighted')\n",
    "        \n",
    "        print('MODEL NAME:',type(estimator).__name__)\n",
    "        print('\\nTraining Accuracy:',round(training_accuracy,4),end = '\\t')\n",
    "        print('Validation Accuracy:',round(validation_accuracy,4),end = '\\t')\n",
    "        print('f1 score:',round(f1score,4))\n",
    "        print('confusion matrix:\\n',conf_matrix)\n",
    "        print('\\n')"
   ]
  },
  {
   "cell_type": "code",
   "execution_count": 18,
   "id": "92ceb0db",
   "metadata": {
    "ExecuteTime": {
     "end_time": "2024-03-28T06:54:24.687010Z",
     "start_time": "2024-03-28T06:52:40.213726Z"
    },
    "scrolled": false
   },
   "outputs": [
    {
     "name": "stdout",
     "output_type": "stream",
     "text": [
      "MODEL NAME: LogisticRegression\n",
      "\n",
      "Training Accuracy: 0.8734\tValidation Accuracy: 0.7939\tf1 score: 0.7835\n",
      "confusion matrix:\n",
      " [[775  44  10]\n",
      " [110 138  22]\n",
      " [ 55  30 131]]\n",
      "\n",
      "\n",
      "MODEL NAME: MultinomialNB\n",
      "\n",
      "Training Accuracy: 0.7345\tValidation Accuracy: 0.6867\tf1 score: 0.6101\n",
      "confusion matrix:\n",
      " [[822   6   1]\n",
      " [222  41   7]\n",
      " [160  16  40]]\n",
      "\n",
      "\n",
      "MODEL NAME: SVC\n",
      "\n",
      "Training Accuracy: 0.9565\tValidation Accuracy: 0.7833\tf1 score: 0.7655\n",
      "confusion matrix:\n",
      " [[789  28  12]\n",
      " [135 114  21]\n",
      " [ 65  24 127]]\n",
      "\n",
      "\n",
      "MODEL NAME: RandomForestClassifier\n",
      "\n",
      "Training Accuracy: 0.9958\tValidation Accuracy: 0.7559\tf1 score: 0.7377\n",
      "confusion matrix:\n",
      " [[772  39  18]\n",
      " [131 118  21]\n",
      " [ 84  28 104]]\n",
      "\n",
      "\n",
      "MODEL NAME: GradientBoostingClassifier\n",
      "\n",
      "Training Accuracy: 0.7564\tValidation Accuracy: 0.7475\tf1 score: 0.7131\n",
      "confusion matrix:\n",
      " [[794  17  18]\n",
      " [182  69  19]\n",
      " [ 78  18 120]]\n",
      "\n",
      "\n",
      "MODEL NAME: XGBClassifier\n",
      "\n",
      "Training Accuracy: 0.8577\tValidation Accuracy: 0.7703\tf1 score: 0.758\n",
      "confusion matrix:\n",
      " [[760  51  18]\n",
      " [125 117  28]\n",
      " [ 52  28 136]]\n",
      "\n",
      "\n"
     ]
    }
   ],
   "source": [
    "model_builder([LogisticRegression(),MultinomialNB(),SVC(),RandomForestClassifier(),GradientBoostingClassifier(),\n",
    "              XGBClassifier()])"
   ]
  },
  {
   "cell_type": "markdown",
   "id": "0929e985",
   "metadata": {},
   "source": [
    "### Training a neural network"
   ]
  },
  {
   "cell_type": "code",
   "execution_count": 19,
   "id": "836e5d7c",
   "metadata": {
    "ExecuteTime": {
     "end_time": "2024-03-28T06:54:25.353628Z",
     "start_time": "2024-03-28T06:54:24.692007Z"
    }
   },
   "outputs": [],
   "source": [
    "tf_idf = TfidfVectorizer()\n",
    "X_train_nn = tf_idf.fit_transform(X_train).toarray()\n",
    "X_valid_nn = tf_idf.transform(X_valid).toarray()\n",
    "X_test_nn = tf_idf.transform(X_test).toarray()"
   ]
  },
  {
   "cell_type": "code",
   "execution_count": 20,
   "id": "d82aac68",
   "metadata": {
    "ExecuteTime": {
     "end_time": "2024-03-28T06:54:32.349753Z",
     "start_time": "2024-03-28T06:54:25.357630Z"
    }
   },
   "outputs": [],
   "source": [
    "from tensorflow.keras.models import Sequential\n",
    "from tensorflow.keras.layers import Dense,Dropout\n",
    "from tensorflow import keras\n",
    "from keras.regularizers import l1, l2"
   ]
  },
  {
   "cell_type": "code",
   "execution_count": 21,
   "id": "f2578dd5",
   "metadata": {
    "ExecuteTime": {
     "end_time": "2024-03-28T06:54:32.513555Z",
     "start_time": "2024-03-28T06:54:32.354631Z"
    }
   },
   "outputs": [],
   "source": [
    "model = Sequential([\n",
    "    Dense(15,activation = 'relu',input_shape = (X_train_nn.shape[1],)),\n",
    "    Dropout(0.5),\n",
    "    Dense(3,activation = 'softmax')\n",
    "])"
   ]
  },
  {
   "cell_type": "code",
   "execution_count": 22,
   "id": "f06f13b1",
   "metadata": {
    "ExecuteTime": {
     "end_time": "2024-03-28T06:54:32.574504Z",
     "start_time": "2024-03-28T06:54:32.516535Z"
    },
    "scrolled": true
   },
   "outputs": [
    {
     "name": "stdout",
     "output_type": "stream",
     "text": [
      "Model: \"sequential\"\n",
      "_________________________________________________________________\n",
      " Layer (type)                Output Shape              Param #   \n",
      "=================================================================\n",
      " dense (Dense)               (None, 15)                180090    \n",
      "                                                                 \n",
      " dropout (Dropout)           (None, 15)                0         \n",
      "                                                                 \n",
      " dense_1 (Dense)             (None, 3)                 48        \n",
      "                                                                 \n",
      "=================================================================\n",
      "Total params: 180,138\n",
      "Trainable params: 180,138\n",
      "Non-trainable params: 0\n",
      "_________________________________________________________________\n"
     ]
    }
   ],
   "source": [
    "model.summary()"
   ]
  },
  {
   "cell_type": "code",
   "execution_count": 23,
   "id": "f351c9e7",
   "metadata": {
    "ExecuteTime": {
     "end_time": "2024-03-28T06:54:32.678447Z",
     "start_time": "2024-03-28T06:54:32.582498Z"
    }
   },
   "outputs": [],
   "source": [
    "model.compile(optimizer = 'adam',loss = 'SparseCategoricalCrossentropy',metrics = ['accuracy'])"
   ]
  },
  {
   "cell_type": "code",
   "execution_count": 24,
   "id": "f63740e1",
   "metadata": {
    "ExecuteTime": {
     "end_time": "2024-03-28T06:55:03.894602Z",
     "start_time": "2024-03-28T06:54:32.682440Z"
    },
    "scrolled": false
   },
   "outputs": [
    {
     "name": "stdout",
     "output_type": "stream",
     "text": [
      "Epoch 1/30\n",
      "24/24 [==============================] - 3s 62ms/step - loss: 1.0746 - accuracy: 0.5726 - val_loss: 1.0423 - val_accuracy: 0.6304\n",
      "Epoch 2/30\n",
      "24/24 [==============================] - 1s 49ms/step - loss: 1.0145 - accuracy: 0.6257 - val_loss: 0.9779 - val_accuracy: 0.6304\n",
      "Epoch 3/30\n",
      "24/24 [==============================] - 1s 52ms/step - loss: 0.9505 - accuracy: 0.6308 - val_loss: 0.9110 - val_accuracy: 0.6380\n",
      "Epoch 4/30\n",
      "24/24 [==============================] - 1s 39ms/step - loss: 0.8851 - accuracy: 0.6485 - val_loss: 0.8480 - val_accuracy: 0.6517\n",
      "Epoch 5/30\n",
      "24/24 [==============================] - 1s 41ms/step - loss: 0.8279 - accuracy: 0.6671 - val_loss: 0.7942 - val_accuracy: 0.6684\n",
      "Epoch 6/30\n",
      "24/24 [==============================] - 1s 49ms/step - loss: 0.7742 - accuracy: 0.6899 - val_loss: 0.7487 - val_accuracy: 0.6852\n",
      "Epoch 7/30\n",
      "24/24 [==============================] - 1s 42ms/step - loss: 0.7275 - accuracy: 0.7215 - val_loss: 0.7102 - val_accuracy: 0.7087\n",
      "Epoch 8/30\n",
      "24/24 [==============================] - 1s 36ms/step - loss: 0.6910 - accuracy: 0.7361 - val_loss: 0.6780 - val_accuracy: 0.7316\n",
      "Epoch 9/30\n",
      "24/24 [==============================] - 1s 35ms/step - loss: 0.6553 - accuracy: 0.7599 - val_loss: 0.6510 - val_accuracy: 0.7407\n",
      "Epoch 10/30\n",
      "24/24 [==============================] - 1s 36ms/step - loss: 0.6198 - accuracy: 0.7797 - val_loss: 0.6279 - val_accuracy: 0.7483\n",
      "Epoch 11/30\n",
      "24/24 [==============================] - 1s 36ms/step - loss: 0.5894 - accuracy: 0.7908 - val_loss: 0.6081 - val_accuracy: 0.7582\n",
      "Epoch 12/30\n",
      "24/24 [==============================] - 1s 37ms/step - loss: 0.5674 - accuracy: 0.8050 - val_loss: 0.5914 - val_accuracy: 0.7681\n",
      "Epoch 13/30\n",
      "24/24 [==============================] - 1s 39ms/step - loss: 0.5443 - accuracy: 0.8123 - val_loss: 0.5778 - val_accuracy: 0.7734\n",
      "Epoch 14/30\n",
      "24/24 [==============================] - 1s 39ms/step - loss: 0.5240 - accuracy: 0.8156 - val_loss: 0.5660 - val_accuracy: 0.7795\n",
      "Epoch 15/30\n",
      "24/24 [==============================] - 1s 37ms/step - loss: 0.5040 - accuracy: 0.8290 - val_loss: 0.5556 - val_accuracy: 0.7833\n",
      "Epoch 16/30\n",
      "24/24 [==============================] - 1s 36ms/step - loss: 0.4848 - accuracy: 0.8362 - val_loss: 0.5470 - val_accuracy: 0.7825\n",
      "Epoch 17/30\n",
      "24/24 [==============================] - 1s 42ms/step - loss: 0.4685 - accuracy: 0.8444 - val_loss: 0.5396 - val_accuracy: 0.7795\n",
      "Epoch 18/30\n",
      "24/24 [==============================] - 1s 42ms/step - loss: 0.4604 - accuracy: 0.8439 - val_loss: 0.5340 - val_accuracy: 0.7825\n",
      "Epoch 19/30\n",
      "24/24 [==============================] - 1s 46ms/step - loss: 0.4416 - accuracy: 0.8520 - val_loss: 0.5291 - val_accuracy: 0.7863\n",
      "Epoch 20/30\n",
      "24/24 [==============================] - 1s 39ms/step - loss: 0.4304 - accuracy: 0.8554 - val_loss: 0.5248 - val_accuracy: 0.7856\n",
      "Epoch 21/30\n",
      "24/24 [==============================] - 1s 40ms/step - loss: 0.4200 - accuracy: 0.8602 - val_loss: 0.5216 - val_accuracy: 0.7901\n",
      "Epoch 22/30\n",
      "24/24 [==============================] - 1s 39ms/step - loss: 0.4094 - accuracy: 0.8664 - val_loss: 0.5191 - val_accuracy: 0.7909\n",
      "Epoch 23/30\n",
      "24/24 [==============================] - 1s 36ms/step - loss: 0.3958 - accuracy: 0.8724 - val_loss: 0.5166 - val_accuracy: 0.7916\n",
      "Epoch 24/30\n",
      "24/24 [==============================] - 1s 36ms/step - loss: 0.3877 - accuracy: 0.8721 - val_loss: 0.5151 - val_accuracy: 0.7916\n",
      "Epoch 25/30\n",
      "24/24 [==============================] - 1s 37ms/step - loss: 0.3786 - accuracy: 0.8744 - val_loss: 0.5139 - val_accuracy: 0.7947\n",
      "Epoch 26/30\n",
      "24/24 [==============================] - 1s 38ms/step - loss: 0.3727 - accuracy: 0.8822 - val_loss: 0.5128 - val_accuracy: 0.7970\n",
      "Epoch 27/30\n",
      "24/24 [==============================] - 1s 36ms/step - loss: 0.3633 - accuracy: 0.8826 - val_loss: 0.5123 - val_accuracy: 0.7954\n",
      "Epoch 28/30\n",
      "24/24 [==============================] - 1s 37ms/step - loss: 0.3513 - accuracy: 0.8876 - val_loss: 0.5122 - val_accuracy: 0.7970\n",
      "Epoch 29/30\n",
      "24/24 [==============================] - 1s 37ms/step - loss: 0.3474 - accuracy: 0.8892 - val_loss: 0.5126 - val_accuracy: 0.7970\n",
      "Epoch 30/30\n",
      "24/24 [==============================] - 1s 34ms/step - loss: 0.3459 - accuracy: 0.8899 - val_loss: 0.5134 - val_accuracy: 0.8008\n"
     ]
    }
   ],
   "source": [
    "history = model.fit(X_train_nn,y_train,epochs = 30,batch_size = 500,validation_data = (X_valid_nn,y_valid),\n",
    "                    callbacks=[keras.callbacks.EarlyStopping(patience=5,restore_best_weights = True)])"
   ]
  },
  {
   "cell_type": "code",
   "execution_count": 25,
   "id": "f4e62dbe",
   "metadata": {
    "ExecuteTime": {
     "end_time": "2024-03-28T06:55:04.203443Z",
     "start_time": "2024-03-28T06:55:03.900599Z"
    }
   },
   "outputs": [
    {
     "data": {
      "image/png": "[encoded data removed]",
      "text/plain": [
       "<Figure size 640x480 with 1 Axes>"
      ]
     },
     "metadata": {},
     "output_type": "display_data"
    }
   ],
   "source": [
    "plt.plot(history.history['loss'])\n",
    "plt.plot(history.history['val_loss'])\n",
    "plt.xlabel('epochs')\n",
    "plt.ylabel('loss')\n",
    "plt.title('loss plot')\n",
    "plt.legend(('train','test'))\n",
    "plt.show()"
   ]
  },
  {
   "cell_type": "code",
   "execution_count": 26,
   "id": "ffccb26a",
   "metadata": {
    "ExecuteTime": {
     "end_time": "2024-03-28T06:55:04.459279Z",
     "start_time": "2024-03-28T06:55:04.209423Z"
    }
   },
   "outputs": [
    {
     "data": {
      "image/png": "[encoded data removed]",
      "text/plain": [
       "<Figure size 640x480 with 1 Axes>"
      ]
     },
     "metadata": {},
     "output_type": "display_data"
    }
   ],
   "source": [
    "plt.plot(history.history['accuracy'])\n",
    "plt.plot(history.history['val_accuracy'])\n",
    "plt.xlabel('epochs')\n",
    "plt.ylabel('accuracy')\n",
    "plt.title('accuracy plot')\n",
    "plt.legend(('train','test'))\n",
    "plt.ylim(0,1)\n",
    "plt.show()"
   ]
  },
  {
   "cell_type": "markdown",
   "id": "99caa26d",
   "metadata": {},
   "source": [
    "- lets select Neural network as it is giving more accuracy on validation data."
   ]
  },
  {
   "cell_type": "code",
   "execution_count": 27,
   "id": "8e99e758",
   "metadata": {
    "ExecuteTime": {
     "end_time": "2024-03-28T06:55:04.646176Z",
     "start_time": "2024-03-28T06:55:04.465277Z"
    }
   },
   "outputs": [
    {
     "data": {
      "text/plain": [
       "['model.pkl']"
      ]
     },
     "execution_count": 27,
     "metadata": {},
     "output_type": "execute_result"
    }
   ],
   "source": [
    "import joblib\n",
    "joblib.dump(model,'model.pkl')"
   ]
  },
  {
   "cell_type": "markdown",
   "id": "6085a6f2",
   "metadata": {},
   "source": [
    "## Testing on Test Data"
   ]
  },
  {
   "cell_type": "code",
   "execution_count": 28,
   "id": "b301786e",
   "metadata": {
    "ExecuteTime": {
     "end_time": "2024-03-28T06:55:05.065936Z",
     "start_time": "2024-03-28T06:55:04.653169Z"
    }
   },
   "outputs": [],
   "source": [
    "model = joblib.load('model.pkl')"
   ]
  },
  {
   "cell_type": "code",
   "execution_count": 29,
   "id": "c5a92a1f",
   "metadata": {
    "ExecuteTime": {
     "end_time": "2024-03-28T06:55:05.744564Z",
     "start_time": "2024-03-28T06:55:05.070929Z"
    }
   },
   "outputs": [
    {
     "name": "stdout",
     "output_type": "stream",
     "text": [
      "46/46 [==============================] - 0s 4ms/step - loss: 0.4900 - accuracy: 0.8097\n"
     ]
    },
    {
     "data": {
      "text/plain": [
       "[0.4900151193141937, 0.8097193837165833]"
      ]
     },
     "execution_count": 29,
     "metadata": {},
     "output_type": "execute_result"
    }
   ],
   "source": [
    "model.evaluate(X_test_nn,y_test)"
   ]
  },
  {
   "cell_type": "markdown",
   "id": "0e4b1d4c",
   "metadata": {},
   "source": [
    "## Conclusion\n",
    "In this project, we conducted sentiment analysis on the Twitter US Airline Sentiment dataset to gain insights into customer perceptions of different US airlines. Our analysis aimed to understand the overall sentiment landscape, identify factors influencing sentiment, and provide actionable insights for airlines to improve customer satisfaction and brand reputation.\n",
    "\n",
    "#### Overall Sentiment Landscape:\n",
    "- The analysis revealed that among the major US airlines, sentiments expressed on Twitter varied significantly. Southwest airlines received the highest proportion of positive sentiments, followed by delta Airlines and United Airlines. Virgin America Airlines had a more balanced distribution of positive, negative, and neutral sentiments, while sentiment towards United,Us airways and American Airlines was predominantly negative.\n",
    "\n",
    "#### Factors Influencing Sentiment:\n",
    "- Negative sentiments were often associated with factors such as flight delays, poor customer service experiences, and issues with baggage handling. Specifically, tweets mentioning flight delays and cancellations,poor customer service were among the most common negative sentiments across all airlines.\n",
    "\n",
    "#### Insights for Airlines:\n",
    "- The analysis provides actionable insights for airlines to enhance customer satisfaction and brand reputation. Airlines should prioritize addressing common points mentioned in negative tweets, such as improving operational efficiency to minimize flight disruptions and enhancing the responsiveness and effectiveness of customer service interactions.\n",
    "\n",
    "#### Machine Learning Model Evaluation:\n",
    "- The machine learning model developed for sentiment prediction demonstrated promising performance, achieving an accuracy of 80% on the test dataset. Among the models evaluated, the Neural network model outperformed others in terms of both accuracy."
   ]
  }
 ],
 "metadata": {
  "kernelspec": {
   "display_name": "Python 3 (ipykernel)",
   "language": "python",
   "name": "python3"
  },
  "language_info": {
   "codemirror_mode": {
    "name": "ipython",
    "version": 3
   },
   "file_extension": ".py",
   "mimetype": "text/x-python",
   "name": "python",
   "nbconvert_exporter": "python",
   "pygments_lexer": "ipython3",
   "version": "3.9.13"
  }
 },
 "nbformat": 4,
 "nbformat_minor": 5
}
